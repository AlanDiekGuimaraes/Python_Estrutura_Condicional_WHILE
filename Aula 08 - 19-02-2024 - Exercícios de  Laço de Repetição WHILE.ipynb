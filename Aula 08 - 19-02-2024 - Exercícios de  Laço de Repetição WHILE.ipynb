{
 "cells": [
  {
   "cell_type": "markdown",
   "metadata": {
    "id": "uvuZAIxkcSo0"
   },
   "source": [
    "1. Faça um programa que peça uma nota, entre zero e dez. Mostre uma mensagem caso o valor seja inválido e continue pedindo até que o usuário informe um Valor válido."
   ]
  },
  {
   "cell_type": "code",
   "execution_count": null,
   "metadata": {
    "colab": {
     "base_uri": "https://localhost:8080/"
    },
    "executionInfo": {
     "elapsed": 9916,
     "status": "ok",
     "timestamp": 1708553051805,
     "user": {
      "displayName": "Alan Diek Guimarães",
      "userId": "14723038698467659112"
     },
     "user_tz": 180
    },
    "id": "fdw-5V_NcZA8",
    "outputId": "78d42ff2-84fb-4a6f-e117-22f8cd3102ff"
   },
   "outputs": [
    {
     "name": "stdout",
     "output_type": "stream",
     "text": [
      "Digite o valor da nota: 15\n",
      "Nota invalida\n",
      "Digite o valor da nota: 23\n",
      "A nota digitada foi: 23\n",
      "Nota invalida\n",
      "Digite o valor da nota: 10\n",
      "A nota digitada foi: 10\n"
     ]
    }
   ],
   "source": [
    "\n",
    "nota = int(input(\"Digite o valor da nota entre 0 e 10: \"))\n",
    "while nota < 0 or nota > 10:\n",
    "  print(\"Nota invalida\")\n",
    "  nota = int(input(\"Digite o valor da nota entre 0 e 10: \"))\n",
    "  print(f\"A nota digitada foi: {nota}\")"
   ]
  },
  {
   "cell_type": "markdown",
   "metadata": {
    "id": "RIfGfgO5d-b_"
   },
   "source": [
    "2. Faça um programa que calcule o mostre a média aritmética de N notas."
   ]
  },
  {
   "cell_type": "code",
   "execution_count": null,
   "metadata": {
    "colab": {
     "base_uri": "https://localhost:8080/"
    },
    "executionInfo": {
     "elapsed": 43705,
     "status": "ok",
     "timestamp": 1708476011721,
     "user": {
      "displayName": "Alan Diek Guimarães",
      "userId": "14723038698467659112"
     },
     "user_tz": 180
    },
    "id": "ZsVSEuhJd_mN",
    "outputId": "56d5bfa0-d36f-47ca-83c6-ddc0f9c875f9"
   },
   "outputs": [
    {
     "name": "stdout",
     "output_type": "stream",
     "text": [
      "Digite a quantidade de notas a serem inseridas: 5\n",
      "Digite o valor da nota: 10\n",
      "Digite o valor da nota: 5\n",
      "Digite o valor da nota: 3\n",
      "Digite o valor da nota: 5\n",
      "Digite o valor da nota: 7\n",
      "O soma total é: 30 e a média é 6.0\n"
     ]
    }
   ],
   "source": [
    "contador = 0\n",
    "nota = 0\n",
    "soma = 0\n",
    "contador_digitadas = 0\n",
    "contador_digitadas = int(input(\"Digite a quantidade de notas a serem inseridas: \"))\n",
    "while contador < contador_digitadas :\n",
    "  nota = int(input(\"Digite o valor da nota: \"))\n",
    "  contador += 1\n",
    "  soma += nota\n",
    "\n",
    "print(f\"O soma total é: {soma} e a média é {soma/contador_digitadas}\")"
   ]
  },
  {
   "cell_type": "markdown",
   "metadata": {
    "id": "13HW5PDHkWaG"
   },
   "source": [
    "3. Faça um programa que leia um nome de usuário e a sua senha e não aceite a\n",
    "senha igual ao nome do usuário, mostrando uma mensagem de erro e voltando a\n",
    "pedir as informações."
   ]
  },
  {
   "cell_type": "code",
   "execution_count": null,
   "metadata": {
    "colab": {
     "base_uri": "https://localhost:8080/"
    },
    "executionInfo": {
     "elapsed": 12773,
     "status": "ok",
     "timestamp": 1708466590438,
     "user": {
      "displayName": "Alan Diek Guimarães",
      "userId": "14723038698467659112"
     },
     "user_tz": 180
    },
    "id": "NQPFYFX2kh8b",
    "outputId": "2e951274-d6c2-4a9b-81d8-2ed167f14154"
   },
   "outputs": [
    {
     "name": "stdout",
     "output_type": "stream",
     "text": [
      "Digite o nome do usuário: alan\n",
      "Digite sua senha: alan\n",
      "Senha invalida, a senha não pode ser o nome de usuario\n",
      "Digite sua senha: alan\n",
      "Senha invalida, a senha não pode ser o nome de usuario\n",
      "Digite sua senha: alool\n",
      "Senha valida\n"
     ]
    }
   ],
   "source": [
    "usuario = input(\"Digite o nome do usuário: \")\n",
    "senha = input(\"Digite sua senha: \")\n",
    "while usuario == senha:\n",
    "  print(\"Senha invalida, a senha não pode ser o nome de usuario\")\n",
    "  senha = str(input(\"Digite sua senha: \"))\n",
    "print(\"Senha valida\")"
   ]
  },
  {
   "cell_type": "markdown",
   "metadata": {
    "id": "2fHSmde_mKMx"
   },
   "source": [
    "4. Um funcionário de uma empresa recebe aumento salarial anualmente. Sabe-se que: Esse funcionário foi contratado em 1995, com salário inicial de R$ 1.000,00; Em 1996 recebeu aumento de 1,5% sobre seu salário inicial; A partir de 1997 (inclusive), os aumentos salariais sempre correspondem ao dobro do percentual do ano anterior. Faça um programa que determine o salário atual desse\n",
    "funcionário. Após concluir isto, altere o programa permitindo que o usuário digite o salário inicial do funcionário."
   ]
  },
  {
   "cell_type": "code",
   "execution_count": null,
   "metadata": {
    "colab": {
     "base_uri": "https://localhost:8080/"
    },
    "executionInfo": {
     "elapsed": 6817,
     "status": "ok",
     "timestamp": 1708558039377,
     "user": {
      "displayName": "Alan Diek Guimarães",
      "userId": "14723038698467659112"
     },
     "user_tz": 180
    },
    "id": "INL0DWnBrjBd",
    "outputId": "e306605d-3c1b-4dab-a51b-d729a5f70b62"
   },
   "outputs": [
    {
     "name": "stdout",
     "output_type": "stream",
     "text": [
      "Digite o valor do salário inicial R$ 1000\n",
      "Digite o ano atual R$ 2024\n",
      "O salario em 2024.0 é R$ 64780166694621097717661435651754373841996112945846734312267054465902060362530816.00\n"
     ]
    }
   ],
   "source": [
    "ano_inicio = 1995\n",
    "\n",
    "salario = float(input(\"Digite o valor do salário inicial R$ \"))\n",
    "ano_final = float(input(\"Digite o ano atual R$ \"))\n",
    "percentual = 0.015\n",
    "while ano_inicio < ano_final:\n",
    "  aumento = salario * percentual\n",
    "  salario += aumento\n",
    "  percentual *=2\n",
    "  ano_inicio += 1\n",
    "print(f\"O salario em {ano_final} é R$ {salario:.2f}\")\n"
   ]
  },
  {
   "cell_type": "markdown",
   "metadata": {
    "id": "ttkbNEuX004e"
   },
   "source": [
    "5. Faça um programa que leia e valide as seguintes informações:\n",
    "\n",
    "Nome: maior que 3 caracteres;\n",
    "\n",
    "Idade: entre 0 e 150;\n",
    "\n",
    "Salário: maior que zero;\n",
    "\n",
    "Sexo: 'f' ou 'm';\n",
    "\n",
    "Estado Civil: 's', 'c', 'v', 'd';"
   ]
  },
  {
   "cell_type": "code",
   "execution_count": null,
   "metadata": {
    "colab": {
     "base_uri": "https://localhost:8080/"
    },
    "executionInfo": {
     "elapsed": 19680,
     "status": "ok",
     "timestamp": 1708478258737,
     "user": {
      "displayName": "Alan Diek Guimarães",
      "userId": "14723038698467659112"
     },
     "user_tz": 180
    },
    "id": "gPa-asqy00Bs",
    "outputId": "98082664-e838-4a8a-981d-757479fd77d1"
   },
   "outputs": [
    {
     "name": "stdout",
     "output_type": "stream",
     "text": [
      "Digite Seu nome: alan\n",
      "Digite sua idade: 35\n",
      "Digite seu salário: 250\n",
      "Digite seu sexo F ou M: m\n",
      "\n",
      "Digite seu estado civil com:\n",
      "S para solteiro\n",
      "C para casado\n",
      "V para viúvo\n",
      "D para divorciado c\n",
      "\n",
      "Seu nome é: alan\n",
      "Sua idade é: 35\n",
      "Seu sexo é: m\n",
      "Seu salário é: 250.0\n",
      "Seu estado civil é: c\n",
      "\n"
     ]
    }
   ],
   "source": [
    "nome = str(input(\"Digite Seu nome: \"))\n",
    "while (len(nome)) < 3:\n",
    "  print(\"Seu nome deve ter mais de 3 caracteres\")\n",
    "  nome = str(input(\"Digite Seu nome: \"))\n",
    "\n",
    "idade = int(input(\"Digite sua idade: \"))\n",
    "while idade < 0 or idade > 150:\n",
    "  print(\"Idade invalida\")\n",
    "  idade = int(input(\"Digite sua idade: \"))\n",
    "\n",
    "salario = float(input(\"Digite seu salário: \"))\n",
    "while salario <= 0:\n",
    "  print(\"Salario 0 é Inválido\")\n",
    "  salario = float(input(\"Digite seu salário: \"))\n",
    "\n",
    "sexo = str(input(\"Digite seu sexo F ou M: \"))\n",
    "while (sexo != \"M\" and sexo != \"F\" and sexo != \"m\" and sexo != \"f\"):\n",
    "  print(\"Dados inválidos\")\n",
    "  sexo = str(input(\"Digite seu sexo F ou M: \"))\n",
    "\n",
    "estado_civil = str(input('''\n",
    "Digite seu estado civil com:\n",
    "S para solteiro\n",
    "C para casado\n",
    "V para viúvo\n",
    "D para divorciado ''')).lower()\n",
    "\n",
    "while (estado_civil != \"s\" and estado_civil != \"c\" and estado_civil != \"v\" and estado_civil != \"d\"):\n",
    "  print(\"Dados inválidos\")\n",
    "  estado_civil = str(input('''\n",
    "Digite seu estado civil com:\n",
    "S para solteiro\n",
    "C para casado\n",
    "V para viúvo\n",
    "D para divorciado ''')).lower()\n",
    "\n",
    "print(f'''\n",
    "Seu nome é: {nome}\n",
    "Sua idade é: {idade}\n",
    "Seu sexo é: {sexo}\n",
    "Seu salário é: {salario}\n",
    "Seu estado civil é: {estado_civil}\n",
    "''')"
   ]
  },
  {
   "cell_type": "markdown",
   "metadata": {
    "id": "wXc8KwEg-DOr"
   },
   "source": [
    "6. Supondo que a população de um país A seja da ordem de 80000 habitantes com\n",
    "uma taxa anual de crescimento de 3% e que a população de B seja 200000\n",
    "habitantes com uma taxa de crescimento de 1.5%. Faça um programa que calcule e\n",
    "escreva o número de anos necessários para que a população do país A ultrapasse\n",
    "ou iguale a população do país B, mantidas as taxas de crescimento.\n"
   ]
  },
  {
   "cell_type": "code",
   "execution_count": null,
   "metadata": {
    "colab": {
     "base_uri": "https://localhost:8080/"
    },
    "executionInfo": {
     "elapsed": 272,
     "status": "ok",
     "timestamp": 1708562874162,
     "user": {
      "displayName": "Alan Diek Guimarães",
      "userId": "14723038698467659112"
     },
     "user_tz": 180
    },
    "id": "or2O7Pw0-E93",
    "outputId": "6dcdf557-23cb-495a-8d9b-5a07b7083f28"
   },
   "outputs": [
    {
     "name": "stdout",
     "output_type": "stream",
     "text": [
      "A quantidade de anos é: 63 anos\n"
     ]
    }
   ],
   "source": [
    "populacaoA = 80000\n",
    "populacaoB = 200000\n",
    "crescimentoA = 0.03\n",
    "crescimentoB = 0.015\n",
    "aumentoA = 0\n",
    "aumentoB = 0\n",
    "anos = 0\n",
    "while populacaoA <= populacaoB:\n",
    "\n",
    "  aumentoA = populacaoA * crescimentoA\n",
    "  populacaoA = aumentoA + populacaoA\n",
    "\n",
    "  aumentoB = populacaoB * crescimentoB\n",
    "  populacaoB = aumentoB + populacaoB\n",
    "\n",
    "  anos += 1\n",
    "print(f'''A quantidade de anos é: {anos} anos''')"
   ]
  },
  {
   "cell_type": "markdown",
   "metadata": {
    "id": "QZYOEgRlA_b6"
   },
   "source": [
    "7. Faça um programa que calcule o fatorial de um número inteiro fornecido pelo\n",
    "usuário. Ex.: 5!=5.4.3.2.1=120\n"
   ]
  },
  {
   "cell_type": "code",
   "execution_count": null,
   "metadata": {
    "id": "EOvrkeWDBBLJ"
   },
   "outputs": [],
   "source": [
    "numero = int(input(\"Digite um numero para calcularmos seu fatorial: \"))\n",
    "resultado = 1\n",
    "numero_inicial = numero\n",
    "while numero != 0:\n",
    "  resultado *= numero\n",
    "  numero -=1\n",
    "\n",
    "print(f\"O fatorial de {numero_inicial} é {resultado}\")\n"
   ]
  },
  {
   "cell_type": "markdown",
   "metadata": {
    "id": "uKUmKegXDowv"
   },
   "source": [
    "8. Faça um programa que solicite ao usuário números indefinidamente até que ele\n",
    "digite 0. Em seguida, o programa deve imprimir a média dos números digitados."
   ]
  },
  {
   "cell_type": "code",
   "execution_count": null,
   "metadata": {
    "id": "MxNz32nTDpxs"
   },
   "outputs": [],
   "source": [
    "contador = 0\n",
    "soma = 0\n",
    "numero = int(input(\"Digite um número qualquer : \"))\n",
    "soma = soma + numero\n",
    "while numero != 0:\n",
    " numero = int(input(\"Digite um número qualquer : \"))\n",
    " soma = soma + numero\n",
    " contador += 1\n",
    "if soma > 0:\n",
    "  print(f\"A media dos numeros digitados é {soma / contador:.21f}\")"
   ]
  },
  {
   "cell_type": "markdown",
   "metadata": {
    "id": "--VJnCg24_v6"
   },
   "source": [
    "9. A série de Fibonacci é formada pela sequência 1,1,2,3,5,8,13,21,34,55,... Faça um programa capaz de gerar a série até o n−ésimo termo."
   ]
  },
  {
   "cell_type": "code",
   "execution_count": null,
   "metadata": {
    "colab": {
     "base_uri": "https://localhost:8080/"
    },
    "executionInfo": {
     "elapsed": 2555,
     "status": "ok",
     "timestamp": 1708564646517,
     "user": {
      "displayName": "Alan Diek Guimarães",
      "userId": "14723038698467659112"
     },
     "user_tz": 180
    },
    "id": "R8wwSU9D4_TU",
    "outputId": "4e8aadc6-2aee-4107-a98a-9dc73869e6eb"
   },
   "outputs": [
    {
     "name": "stdout",
     "output_type": "stream",
     "text": [
      "Digite um número para calcularmos sua sequencia Fibonacci: 9\n",
      "1\n",
      "1\n",
      "2\n",
      "3\n",
      "5\n",
      "8\n",
      "13\n",
      "21\n",
      "34\n"
     ]
    }
   ],
   "source": [
    "n_numeros = int(input(\"Digite um número para calcularmos sua sequencia Fibonacci: \"))\n",
    "contador = 0\n",
    "primeiro = 1\n",
    "segundo = 1\n",
    "soma = 0\n",
    "\n",
    "while contador < n_numeros:\n",
    " print(primeiro)\n",
    " soma = primeiro + segundo\n",
    " primeiro = segundo\n",
    " segundo = soma\n",
    " contador +=1"
   ]
  },
  {
   "cell_type": "markdown",
   "metadata": {
    "id": "6lPu0MM2kDFn"
   },
   "source": [
    "10. O Sr. Manoel Joaquim expandiu seus negócios para além dos negócios de 1,99 e agora possui uma loja de conveniências. Faça um programa que implemente uma caixa registradora rudimentar.\n",
    "\n",
    "O programa deverá receber um número desconhecido de valores referentes aos preços das mercadorias. Um valor zero deve ser informado pelo operador para indicar o final da compra.\n",
    "\n",
    "O programa deve então mostrar o total da compra e perguntar o valor em dinheiro que o cliente forneceu, para então calcular e mostrar o valor do troco. Após esta operação, o programa deverá voltar ao ponto inicial, para registrar a próxima compra.\n",
    "A saída deve ser conforme o exemplo abaixo:\n",
    "\n",
    "Lojas Tabajara\n",
    "\n",
    "Produto 1: R$ 2.20\n",
    "\n",
    "Produto 2: R$ 5.80\n",
    "\n",
    "Produto 3: R$ 0\n",
    "\n",
    "Total: R$ 9.00\n",
    "\n",
    "Dinheiro: R$ 20.00\n",
    "\n",
    "Troco: R$ 11.00"
   ]
  },
  {
   "cell_type": "code",
   "execution_count": null,
   "metadata": {
    "colab": {
     "base_uri": "https://localhost:8080/"
    },
    "executionInfo": {
     "elapsed": 205353,
     "status": "ok",
     "timestamp": 1708474258968,
     "user": {
      "displayName": "Alan Diek Guimarães",
      "userId": "14723038698467659112"
     },
     "user_tz": 180
    },
    "id": "yqD71z0llhkJ",
    "outputId": "60bd7b3d-7e7d-4e8d-9532-088eed7b7efc"
   },
   "outputs": [
    {
     "name": "stdout",
     "output_type": "stream",
     "text": [
      "Lojas Tabajara\n",
      "Produto 1: R$ 10\n",
      "Produto 2: R$ 10.00\n",
      "Produto 3: R$ 0\n",
      "Total: R$ 20.00\n",
      "Digite o valor do DINHEIRO: 20\n",
      "Dinheiro: R$ 20.00\n",
      "Troco: R$ 0.00\n"
     ]
    }
   ],
   "source": [
    "contador = 1\n",
    "soma = 0\n",
    "dinheiro = 0\n",
    "n_numeros = 1\n",
    "print(\"Lojas Tabajara\")\n",
    "while n_numeros != 0:\n",
    "  n_numeros = float(input(f\"Produto {contador}: R$ \"))\n",
    "\n",
    "  contador += 1\n",
    "  soma = soma + n_numeros\n",
    "\n",
    "print(f\"Total: R$ {soma:.2f}\")\n",
    "dinheiro = float(input(\"Digite o valor do DINHEIRO: \"))\n",
    "print(f\"Dinheiro: R$ {dinheiro:..f}\")\n",
    "print(f\"Troco: R$ {dinheiro - soma:.2f}\")"
   ]
  },
  {
   "cell_type": "markdown",
   "metadata": {
    "id": "-Uogdk-AsAt3"
   },
   "source": [
    "11. O cardápio de uma lanchonete é o seguinte:\n",
    "\n",
    "Especificação Código Preço\n",
    "\n",
    "Cachorro Quente 100 R$ 1,20\n",
    "\n",
    "Bauru Simples 101 R$ 1,30\n",
    "\n",
    "Bauru com ovo 102 R$ 1,50\n",
    "\n",
    "Hambúrguer 103 R$ 1,20\n",
    "\n",
    "Cheeseburguer 104 R$ 1,30\n",
    "\n",
    "Refrigerante 105 R$ 1,00\n",
    "\n",
    "Faça um programa que leia o código dos itens pedidos e as quantidades desejadas.\n",
    "Calcule e mostre o valor a ser pago por item (preço * quantidade) e o total geral do pedido. Considere que o cliente deve informar quando o pedido deve ser encerrado."
   ]
  },
  {
   "cell_type": "code",
   "execution_count": 22,
   "metadata": {
    "colab": {
     "base_uri": "https://localhost:8080/",
     "height": 106
    },
    "executionInfo": {
     "elapsed": 426,
     "status": "error",
     "timestamp": 1708810851649,
     "user": {
      "displayName": "Alan Diek Guimarães",
      "userId": "14723038698467659112"
     },
     "user_tz": 180
    },
    "id": "UXiaak5Ks3VV",
    "outputId": "c525c09e-8303-4b3b-8fd9-bc8682a7b85f"
   },
   "outputs": [
    {
     "name": "stdout",
     "output_type": "stream",
     "text": [
      "Produto Codigo Preço\n",
      "-------------------------------\n",
      "Cachorro Quente 100 R$ 1.20\n",
      "Bauru Simples 101 R$ 1.30\n",
      "Bauru com ovo 102 R$ 1.50\n",
      "Hamburguer 103 R$ 1.20\n",
      "Cheeseburguer 104 R$ 1.30\n",
      "Refrigerante 105 R$ 1.00\n",
      "\n",
      "Digite o codigo do produto (ou 0 para encerar)102\n",
      "Digite a quantidade desse produto2\n",
      "\n",
      "Fechamento do pedido\n",
      "Codigo - Quantidade - Preço unidade - Preço total\n",
      "Digite o codigo do produto (ou 0 para encerar)105\n",
      "Digite a quantidade desse produto1\n",
      "\n",
      "Fechamento do pedido\n",
      "Codigo - Quantidade - Preço unidade - Preço total\n",
      "Digite o codigo do produto (ou 0 para encerar)0\n",
      "102\t-\t2\t- R$ 1.50\t-\tR$ 3.00\n",
      "105\t-\t1\t- R$ 1.00\t-\tR$ 1.00\n",
      "Total do pedido: R$ 4.00\n"
     ]
    }
   ],
   "source": [
    "quantidade_produto_100 = 0\n",
    "quantidade_produto_101 = 0\n",
    "quantidade_produto_102 = 0\n",
    "quantidade_produto_103 = 0\n",
    "quantidade_produto_104 = 0\n",
    "quantidade_produto_105 = 0\n",
    "total = 0\n",
    "print(\n",
    "\"Produto Codigo Preço\"\n",
    "\"\\n-------------------------------\"\n",
    "\"\\nCachorro Quente 100 R$ 1.20\"\n",
    "\"\\nBauru Simples 101 R$ 1.30\"\n",
    "\"\\nBauru com ovo 102 R$ 1.50\"\n",
    "\"\\nHamburguer 103 R$ 1.20\"\n",
    "\"\\nCheeseburguer 104 R$ 1.30\"\n",
    "\"\\nRefrigerante 105 R$ 1.00\\n\"\n",
    ")\n",
    "while True:\n",
    "    codigo = int(input(\"Digite o codigo do produto (ou 0 para encerar)\"))\n",
    "    if codigo == 0:\n",
    "        break\n",
    "    if codigo > 105 or codigo < 100:\n",
    "        print(\"Codigo inválido!\")\n",
    "        continue\n",
    "    quantidade = int(input(\"Digite a quantidade desse produto\"))\n",
    "    if codigo == 100:\n",
    "        quantidade_produto_100 += quantidade\n",
    "    elif codigo == 101:\n",
    "        quantidade_produto_101 += quantidade\n",
    "    elif codigo == 102:\n",
    "        quantidade_produto_102 += quantidade\n",
    "    elif codigo == 103:\n",
    "        quantidade_produto_103 += quantidade\n",
    "    elif codigo == 104:\n",
    "        quantidade_produto_104 += quantidade\n",
    "    else:\n",
    "        quantidade_produto_105 += quantidade\n",
    "    print(\n",
    "    \"\\nFechamento do pedido\"\n",
    "    \"\\nCodigo - Quantidade - Preço unidade - Preço total\"\n",
    "    )\n",
    "        f\"100\\t-\\t{quantidade_produto_100}\\t- R$ 1.20\\t-\"\n",
    "        f\"\\tR$ {quantidade_produto_100 * 1.2:.2f}\"\n",
    "            )\n",
    "        total += quantidade_produto_100 * 1.2\n",
    "    if quantidade_produto_101 > 0:\n",
    "        print(\n",
    "            f\"101\\t-\\t{quantidade_produto_101}\\t- R$ 1.30\\t-\"\n",
    "            f\"\\tR$ {quantidade_produto_101 * 1.3:.2f}\"\n",
    "            )\n",
    "        total += quantidade_produto_101 * 1.3\n",
    "if quantidade_produto_102 > 0:\n",
    "    print(\n",
    "    f\"102\\t-\\t{quantidade_produto_102}\\t- R$ 1.50\\t-\"\n",
    "    f\"\\tR$ {quantidade_produto_102 * 1.5:.2f}\"\n",
    "        )\n",
    "    total += quantidade_produto_102 * 1.5\n",
    "if quantidade_produto_103 > 0:\n",
    "    print(\n",
    "    f\"103\\t-\\t{quantidade_produto_103}\\t- R$ 1.20\\t-\"\n",
    "    f\"\\tR$ {quantidade_produto_103 * 1.2:.2f}\"\n",
    "        )\n",
    "    total += quantidade_produto_103 * 1.2\n",
    "if quantidade_produto_104 > 0:\n",
    "    print(\n",
    "        f\"104\\t-\\t{quantidade_produto_104}\\t- R$ 1.30\\t-\"\n",
    "        f\"\\tR$ {quantidade_produto_104 * 1.3:.2f}\"\n",
    "        )\n",
    "    total += quantidade_produto_104 * 1.3\n",
    "if quantidade_produto_105 > 0:\n",
    "    print(\n",
    "        f\"105\\t-\\t{quantidade_produto_105}\\t- R$ 1.00\\t-\"\n",
    "        f\"\\tR$ {quantidade_produto_105 * 1.0:.2f}\"\n",
    "        )\n",
    "    total += quantidade_produto_105 * 1.0\n",
    "print(f\"Total do pedido: R$ {total:.2f}\")"
   ]
  },
  {
   "cell_type": "markdown",
   "metadata": {
    "id": "I767Z029PgPx"
   },
   "source": [
    "12. Em uma eleição presidencial existem quatro candidatos. Os votos são informados por meio de código.\n",
    "Os códigos utilizados são:\n",
    "\n",
    "1, 2, 3, 4 - Votos para os respectivos candidatos\n",
    "\n",
    "(você deve montar a tabela ex: 1 - Jose/ 2- João/etc)\n",
    "\n",
    "5 - Voto Nulo\n",
    "\n",
    "6 - Voto em Branco\n",
    "\n",
    "Faça um programa que calcule e mostre:\n",
    "\n",
    "O total de votos para cada candidato;\n",
    "\n",
    "O total de votos nulos;\n",
    "\n",
    "O total de votos em branco;\n",
    "\n",
    "A percentagem de votos nulos sobre o total de votos;\n",
    "\n",
    "A percentagem de votos em branco sobre o total de votos.\n",
    "\n",
    "Para finalizar o conjunto de votos tem-se o valor zero."
   ]
  },
  {
   "cell_type": "code",
   "execution_count": 33,
   "metadata": {
    "id": "r_0IGmMYD1Pm"
   },
   "outputs": [
    {
     "name": "stdout",
     "output_type": "stream",
     "text": [
      "Candidatos: \n",
      "1 - José\n",
      "2 - João\n",
      "3 - Maria\n",
      "4 - Clara\n",
      "Digite 0 para sair, 5 para votar nulo ou 6 para votar em branco\n",
      "Digite o voto numero 1: 5\n",
      "Digite o voto numero 2: 6\n",
      "Digite o voto numero 3: 3\n",
      "Digite o voto numero 4: 3\n",
      "Digite o voto numero 5: 2\n",
      "Digite o voto numero 6: 1\n",
      "Digite o voto numero 7: 1\n",
      "Digite o voto numero 8: 4\n",
      "Digite o voto numero 9: 5\n",
      "Digite o voto numero 10: 5\n",
      "Digite o voto numero 11: 2\n",
      "Digite o voto numero 12: 2\n",
      "Digite o voto numero 13: 2\n",
      "Digite o voto numero 14: 5\n",
      "Digite o voto numero 15: 6\n",
      "Digite o voto numero 16: 5\n",
      "Digite o voto numero 17: 0\n",
      "\n",
      "Resultado da eleição:\n",
      "José teve 2 votos\n",
      "João teve 4 votos\n",
      "Maria teve 2 votos\n",
      "Clara teve 1 votos\n",
      "5 votos foram anulados, um total de 31.25\n",
      "2 votos foram em branco, um total de 12.50%\n"
     ]
    }
   ],
   "source": [
    "print(\"Candidatos: \\n1 - José\\n2 - João\\n3 - Maria\\n4 - Clara\")\n",
    "print(\"Digite 0 para sair, 5 para votar nulo ou 6 para votar em branco\")\n",
    "votos = 0\n",
    "candidato_1 = 0\n",
    "candidato_2 = 0\n",
    "candidato_3 = 0\n",
    "candidato_4 = 0\n",
    "nulos = 0\n",
    "brancos = 0\n",
    "while True:\n",
    "    voto = int(input(f\"Digite o voto numero {votos + 1}: \"))\n",
    "    if voto == 0:\n",
    "        break\n",
    "    votos += 1\n",
    "    if voto == 1:\n",
    "        candidato_1 += 1\n",
    "    elif voto == 2:\n",
    "        candidato_2 += 1\n",
    "    elif voto == 3:\n",
    "        candidato_3 += 1\n",
    "    elif voto == 4:\n",
    "        candidato_4 += 1\n",
    "    elif voto == 5:\n",
    "        nulos += 1\n",
    "    elif voto == 6:\n",
    "        brancos += 1\n",
    "    else:\n",
    "        print(\"Voto inválido!\")\n",
    "        votos -= 1\n",
    "print(\n",
    "\"\\nResultado da eleição:\"\n",
    "f\"\\nJosé teve {candidato_1} votos\"\n",
    "f\"\\nJoão teve {candidato_2} votos\"\n",
    "f\"\\nMaria teve {candidato_3} votos\"\n",
    "f\"\\nClara teve {candidato_4} votos\"\n",
    "f\"\\n{nulos} votos foram anulados, um total de {100 * nulos/votos}% \"\n",
    "f\"\\n{brancos} votos foram em branco, \"\n",
    "f\"um total de {100 * brancos / votos:.2f}%\"\n",
    ")"
   ]
  },
  {
   "cell_type": "code",
   "execution_count": null,
   "metadata": {},
   "outputs": [],
   "source": []
  },
  {
   "cell_type": "code",
   "execution_count": null,
   "metadata": {},
   "outputs": [],
   "source": []
  }
 ],
 "metadata": {
  "colab": {
   "provenance": []
  },
  "kernelspec": {
   "display_name": "Python 3 (ipykernel)",
   "language": "python",
   "name": "python3"
  },
  "language_info": {
   "codemirror_mode": {
    "name": "ipython",
    "version": 3
   },
   "file_extension": ".py",
   "mimetype": "text/x-python",
   "name": "python",
   "nbconvert_exporter": "python",
   "pygments_lexer": "ipython3",
   "version": "3.11.7"
  }
 },
 "nbformat": 4,
 "nbformat_minor": 4
}
